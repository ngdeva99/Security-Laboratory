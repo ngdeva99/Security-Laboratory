{
 "cells": [
  {
   "cell_type": "code",
   "execution_count": null,
   "metadata": {},
   "outputs": [],
   "source": [
    "q=int(input(\"Enter large prime integer(q):\"))\n",
    "p=int(input(\"Enter large prime integer(p):\"))\n",
    "g=int(input(\"Enter primitive root(g):\"))\n",
    "xa=int(input(\"Enter Xa:\"))\n",
    "ya=(g**xa)%p\n",
    "k=int(input(\"Enter the value of k:\"))\n",
    "m=int(input(\"Enter hash value:\"))\n",
    "print(\"Public key (Ya):\",ya)\n",
    "r=((g**k)%p)%q\n",
    "print(\"r:\",r)\n",
    "i=1\n",
    "while True:\n",
    "\tx=(k*i)%q\n",
    "\tif x==1:\n",
    "\t\tbreak\n",
    "\telse:\n",
    "\t\ti=i+1\n",
    "s=(i*(m+xa*r))%q\n",
    "\n",
    "\n",
    "print(\"s:\",s)\n",
    "print(\"Signature(r,s):(\",r,\",\",s,\")\")\n",
    "i=1\n",
    "while True:\n",
    "\tx=(s*i)%q\n",
    "\tif x==1:\n",
    "\t\tbreak\n",
    "\telse:\n",
    "\t\ti=i+1\n",
    "W=(i)%q\n",
    "U1=(m*W)%q\n",
    "U2=(r*W)%q\n",
    "V=(((g**U1)*(ya**U2))%p)%q\n",
    "print(\"W:\",W)\n",
    "print(\"U1:\",U1)\n",
    "print(\"U2:\",U2)\n",
    "print(\"V:\",V)\n",
    "print(\"\\t*** Verifivation ***\")\n",
    "if V==r:\n",
    "\tprint(\"Signature is valid\")\n",
    "else:\n",
    "\tprint(\"Signature is not valid!!!\")"
   ]
  },
  {
   "cell_type": "code",
   "execution_count": null,
   "metadata": {},
   "outputs": [],
   "source": []
  }
 ],
 "metadata": {
  "kernelspec": {
   "display_name": "Python 3",
   "language": "python",
   "name": "python3"
  },
  "language_info": {
   "codemirror_mode": {
    "name": "ipython",
    "version": 3
   },
   "file_extension": ".py",
   "mimetype": "text/x-python",
   "name": "python",
   "nbconvert_exporter": "python",
   "pygments_lexer": "ipython3",
   "version": "3.7.6"
  }
 },
 "nbformat": 4,
 "nbformat_minor": 4
}
