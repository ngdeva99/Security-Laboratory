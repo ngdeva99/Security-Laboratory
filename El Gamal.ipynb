{
 "cells": [
  {
   "cell_type": "code",
   "execution_count": 1,
   "metadata": {},
   "outputs": [
    {
     "name": "stdout",
     "output_type": "stream",
     "text": [
      "Enter large prime integer(q):19\n",
      "Enter primitive root(a):10\n",
      "Enter Xa:5\n",
      "Enter Message:17\n",
      "Enter the value of k:6\n",
      "Public key (Ya): 3\n",
      "One time key(K): 7\n",
      "C1: 11\n",
      "C2: 5\n",
      "Encrypted data(C1,C2):( 11 , 5 )\n",
      "*** Decryption ***\n",
      "K: 7 K inverse: 11\n",
      "Message: 17\n"
     ]
    }
   ],
   "source": [
    "q=int(input(\"Enter large prime integer(q):\"))\n",
    "a=int(input(\"Enter primitive root(a):\"))\n",
    "xa=int(input(\"Enter Xa:\"))\n",
    "ya=(a**xa)%q\n",
    "m=int(input(\"Enter Message:\"))\n",
    "k=int(input(\"Enter the value of k:\"))\n",
    "print(\"Public key (Ya):\",ya)\n",
    "K=(ya**k)%q\n",
    "print(\"One time key(K):\",K)\n",
    "C1=(a**k)%q\n",
    "print(\"C1:\",C1)\n",
    "C2=(K*m)%q\n",
    "print(\"C2:\",C2)\n",
    "print(\"Encrypted data(C1,C2):(\",C1,\",\",C2,\")\")\n",
    "K=(C1**xa)%q\n",
    "i=1\n",
    "while True:\n",
    "    x=(K*i)%q\n",
    "    if x==1:\n",
    "        break\n",
    "    else:\n",
    "        i=i+1\n",
    "print(\"*** Decryption ***\")\n",
    "print(\"K:\",K,\"K inverse:\",i)\n",
    "M=(C2*i)%q\n",
    "print(\"Message:\",M)"
   ]
  },
  {
   "cell_type": "code",
   "execution_count": null,
   "metadata": {},
   "outputs": [],
   "source": []
  }
 ],
 "metadata": {
  "kernelspec": {
   "display_name": "Python 3",
   "language": "python",
   "name": "python3"
  },
  "language_info": {
   "codemirror_mode": {
    "name": "ipython",
    "version": 3
   },
   "file_extension": ".py",
   "mimetype": "text/x-python",
   "name": "python",
   "nbconvert_exporter": "python",
   "pygments_lexer": "ipython3",
   "version": "3.7.6"
  }
 },
 "nbformat": 4,
 "nbformat_minor": 4
}
