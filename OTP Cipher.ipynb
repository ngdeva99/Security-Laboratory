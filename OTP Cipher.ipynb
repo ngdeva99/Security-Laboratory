{
 "cells": [
  {
   "cell_type": "code",
   "execution_count": 9,
   "metadata": {},
   "outputs": [
    {
     "name": "stdout",
     "output_type": "stream",
     "text": [
      "OUTPUT\n",
      "Encryption:\n",
      "Key entered: 10101100110001\n",
      "Cipher text in binary: 00111111110111\n",
      "Encrypted message in OTP:\u001fw\n",
      "Decryption:\n",
      "Key entered: 10101100110001\n",
      "Plain text in binary: 00111111110111\n",
      "Decrypted message in OTP:IF\n"
     ]
    }
   ],
   "source": [
    "message = \"IF\"\n",
    "message = [ord(str(i)) for i in message]\n",
    "\n",
    "key = int('1010110',2)\n",
    "key1 = int('0110001',2)\n",
    "\n",
    "a = key^message[0]\n",
    "b = key1^message[1]\n",
    "#print(bin(a)[2:].zfill(7))\n",
    "a1 = (str(bin(a)[2:].zfill(7))+\" \"+str(bin(b)[2:].zfill(7)))\n",
    "\n",
    "encoded = a1.split(\" \")\n",
    "print(\"OUTPUT : OTP Cipher - Devanathan\")\n",
    "print(\"Encryption:\")\n",
    "print(\"Key entered: \"+\"10101100110001\")\n",
    "\n",
    "print(\"Cipher text in binary: \"+encoded[0]+encoded[1])\n",
    "encoded = [chr(int(i,2)) for i in encoded]\n",
    "\n",
    "encoded = \"\".join(encoded)\n",
    "print(\"Encrypted message in OTP:\"+encoded)\n",
    "print(\"Decryption:\")\n",
    "print(\"Key entered: \"+\"10101100110001\")\n",
    "\n",
    "\n",
    "decoded = [bin(ord(i))[2:].zfill(7) for i in encoded]\n",
    "print(\"Plain text in binary: \"+decoded[0]+decoded[1])\n",
    "print(\"Decrypted message in OTP:\"+str(chr((int(decoded[0],2)^key)))+str(chr((int(decoded[1],2)^key1))))"
   ]
  },
  {
   "cell_type": "code",
   "execution_count": null,
   "metadata": {},
   "outputs": [],
   "source": []
  }
 ],
 "metadata": {
  "kernelspec": {
   "display_name": "Python 3",
   "language": "python",
   "name": "python3"
  },
  "language_info": {
   "codemirror_mode": {
    "name": "ipython",
    "version": 3
   },
   "file_extension": ".py",
   "mimetype": "text/x-python",
   "name": "python",
   "nbconvert_exporter": "python",
   "pygments_lexer": "ipython3",
   "version": "3.7.6"
  }
 },
 "nbformat": 4,
 "nbformat_minor": 4
}
