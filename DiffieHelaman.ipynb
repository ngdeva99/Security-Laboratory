{
 "cells": [
  {
   "cell_type": "code",
   "execution_count": 1,
   "metadata": {},
   "outputs": [
    {
     "name": "stdout",
     "output_type": "stream",
     "text": [
      "Enter large prime integer(q):23\n",
      "Enter primitive root(a):9\n",
      "Enter Xa:4\n",
      "Enter Xb:3\n",
      "A's private key: 6\n",
      "B's private key: 16\n",
      "Shared key computation:\n",
      "Public key computed by A 9\n",
      "Public key computed by B 9\n"
     ]
    }
   ],
   "source": [
    "q=int(input(\"Enter large prime integer(q):\"))\n",
    "a=int(input(\"Enter primitive root(a):\"))\n",
    "xa=int(input(\"Enter Xa:\"))\n",
    "xb=int(input(\"Enter Xb:\"))\n",
    "ya=(a**xa)%q\n",
    "print(\"A's private key:\",ya)\n",
    "yb=(a**xb)%q\n",
    "print(\"B's private key:\",yb)\n",
    "print(\"Shared key computation:\")\n",
    "ka=(ya**xb)%q\n",
    "print(\"Public key computed by A\",ka)\n",
    "kb=(yb**xa)%q\n",
    "print(\"Public key computed by B\",kb)"
   ]
  },
  {
   "cell_type": "code",
   "execution_count": null,
   "metadata": {},
   "outputs": [],
   "source": []
  },
  {
   "cell_type": "code",
   "execution_count": null,
   "metadata": {},
   "outputs": [],
   "source": []
  }
 ],
 "metadata": {
  "kernelspec": {
   "display_name": "Python 3",
   "language": "python",
   "name": "python3"
  },
  "language_info": {
   "codemirror_mode": {
    "name": "ipython",
    "version": 3
   },
   "file_extension": ".py",
   "mimetype": "text/x-python",
   "name": "python",
   "nbconvert_exporter": "python",
   "pygments_lexer": "ipython3",
   "version": "3.7.6"
  }
 },
 "nbformat": 4,
 "nbformat_minor": 4
}
