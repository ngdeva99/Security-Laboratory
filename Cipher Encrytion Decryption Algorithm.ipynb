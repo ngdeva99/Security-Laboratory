{
 "cells": [
  {
   "cell_type": "code",
   "execution_count": 11,
   "metadata": {},
   "outputs": [
    {
     "name": "stdout",
     "output_type": "stream",
     "text": [
      "Enter choice 1.shift 2. modulo 3.Exit\n",
      "1\n",
      "Enter text to encrypt\n",
      "ATTACK AT DAWN\n",
      "Enter the text to decrypt\n",
      "WKLV LV IXQ\n",
      "ATTACK AT DAWN encryted as DWWDFN DW GDZQ\n",
      "WKLV LV IXQ decrypted as THIS IS FUN\n",
      "thank you\n"
     ]
    }
   ],
   "source": [
    "\n",
    "print(\"Enter choice 1.shift 2. modulo 3.Exit\")\n",
    "\n",
    "choice = int(input())\n",
    "\n",
    "if choice==1:\n",
    "    shifting()\n",
    "\n",
    "else:\n",
    "    modulo()\n",
    "    \n",
    "print(\"thank you\")"
   ]
  },
  {
   "cell_type": "code",
   "execution_count": 13,
   "metadata": {},
   "outputs": [],
   "source": [
    "#CIPHER ALGORITHM MODULO METHOD\n",
    "\n",
    "def modulo():\n",
    "    alpha = ['a','b','c','d','e','f','g','h','i','j','k','l','m','n','o','p','q','r','s','t','u','v','w','x','y','z']\n",
    "    \n",
    "    \n",
    "    print(\"Enter text to encrypt\")\n",
    "    word = input()\n",
    "    print(\"Enter the text to decrypt\")\n",
    "    dec_word = input()\n",
    "    shift = 3 #key\n",
    "\n",
    "    def encrypt(word,shift):\n",
    "        word  = word.lower()\n",
    "        word = [str(i) for i in word]    \n",
    "\n",
    "        ans = \"\"\n",
    "\n",
    "        for i in word:\n",
    "            if i==\" \":\n",
    "                ans+=i\n",
    "            else:\n",
    "                ans+=alpha[(alpha.index(i)+shift)%len(alpha)]\n",
    "\n",
    "        return(ans.upper())\n",
    "\n",
    "    def decrypt(word,shift):\n",
    "        word  = word.lower()\n",
    "        word = [str(i) for i in word]\n",
    "        #print(word)      \n",
    "\n",
    "        ans = \"\"\n",
    "\n",
    "        for i in word:\n",
    "            if i==\" \":\n",
    "                ans+=i\n",
    "            else:\n",
    "                ans+=alpha[(alpha.index(i)-shift)%len(alpha)]\n",
    "\n",
    "        return(ans.upper())\n",
    "\n",
    "    print(word+\" encryted as \"+encrypt(word,shift))\n",
    "    print(word+\" decrypted as \"+decrypt(dec_word,shift))\n"
   ]
  },
  {
   "cell_type": "code",
   "execution_count": null,
   "metadata": {},
   "outputs": [],
   "source": []
  },
  {
   "cell_type": "code",
   "execution_count": 12,
   "metadata": {},
   "outputs": [],
   "source": [
    "#CIPHER ALGORITHM SHIFTING METHOD\n",
    "\n",
    "def shifting():\n",
    "    \n",
    "    alpha = ['a','b','c','d','e','f','g','h','i','j','k','l','m','n','o','p','q','r','s','t','u','v','w','x','y','z']\n",
    "    \n",
    "    \n",
    "    print(\"Enter text to encrypt\")\n",
    "    word = input()\n",
    "    print(\"Enter the text to decrypt\")\n",
    "    dec_word = input()\n",
    "    shift = 3 \n",
    "    alpha1 = [alpha[(i+shift)%len(alpha)] for i in range(len(alpha))]\n",
    "    ans = \"\"\n",
    "    def encrypt(word,shift,ans):\n",
    "        for i in word.lower():\n",
    "            if i==\" \":\n",
    "                ans+=i\n",
    "            else:\n",
    "                ans+=alpha1[alpha.index(i)]\n",
    "            \n",
    "        return ans.upper()\n",
    "    \n",
    "    def decrypt(word,shift,ans):\n",
    "        for i in word.lower():\n",
    "            if i==\" \":\n",
    "                ans+=i\n",
    "            else:\n",
    "                ans+=alpha[alpha1.index(i)]\n",
    "            \n",
    "        return (ans.upper())\n",
    "    \n",
    "    \n",
    "    print(word+\" encryted as \"+encrypt(word,shift,ans))\n",
    "    print(dec_word+\" decrypted as \"+decrypt(dec_word,shift,ans))"
   ]
  },
  {
   "cell_type": "code",
   "execution_count": null,
   "metadata": {},
   "outputs": [],
   "source": []
  }
 ],
 "metadata": {
  "kernelspec": {
   "display_name": "Python 3",
   "language": "python",
   "name": "python3"
  },
  "language_info": {
   "codemirror_mode": {
    "name": "ipython",
    "version": 3
   },
   "file_extension": ".py",
   "mimetype": "text/x-python",
   "name": "python",
   "nbconvert_exporter": "python",
   "pygments_lexer": "ipython3",
   "version": "3.7.6"
  }
 },
 "nbformat": 4,
 "nbformat_minor": 4
}
