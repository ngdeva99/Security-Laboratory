{
 "cells": [
  {
   "cell_type": "code",
   "execution_count": 3,
   "metadata": {},
   "outputs": [
    {
     "name": "stdout",
     "output_type": "stream",
     "text": [
      "RAIL FENCE TRANSPOSITION - DEVANATHAN\n",
      "\n",
      "encoded:  ITMda,CenI ars hna\n",
      "decoded:  IIT Madras, Chenna\n"
     ]
    }
   ],
   "source": [
    "def encode(message,depth):\n",
    "    \n",
    "    c = len(message)//depth\n",
    "    r = depth\n",
    "    matrix = [[0 for _ in range(c)]for _ in range(depth)]\n",
    "    enc = \"\"\n",
    "    k = 0\n",
    "    for i in  range(c):\n",
    "        for j in range(r):\n",
    "            if k!=len(message):\n",
    "                matrix[j][i] = message[k]\n",
    "                k+=1\n",
    "            else:\n",
    "                matrix[j][i] = 'O'\n",
    "                \n",
    "    for i in range(r):\n",
    "        for j in range(c):\n",
    "            \n",
    "            enc+=matrix[i][j]\n",
    "            \n",
    "    return enc\n",
    "\n",
    "\n",
    "# In[15]:\n",
    "\n",
    "\n",
    "def decode(encmsg,depth):\n",
    "    r = depth\n",
    "    l = len(encmsg)\n",
    "    c = l //depth\n",
    "    k = 0\n",
    "    mat= [[0 for _ in range(c)]for _ in range(depth)]\n",
    "    dec = \"\"\n",
    "    for i in range(r):\n",
    "        for j in range(c):\n",
    "            mat[i][j] = encmsg[k]\n",
    "            k+=1\n",
    "\n",
    "    for i in range(c):\n",
    "        for j in range(r):\n",
    "            dec += mat[j][i]\n",
    "    return dec\n",
    "\n",
    "\n",
    "# In[21]:\n",
    "\n",
    "\n",
    "\n",
    "message = \"IIT Madras, Chenna\"\n",
    "depth = 2\n",
    "print('RAIL FENCE TRANSPOSITION - DEVANATHAN')\n",
    "print(\"\")\n",
    "print(\"encoded: \",encode(message,depth))\n",
    "print(\"decoded: \",decode(\"ITMda,CenI ars hna\",depth))"
   ]
  },
  {
   "cell_type": "code",
   "execution_count": null,
   "metadata": {},
   "outputs": [],
   "source": []
  }
 ],
 "metadata": {
  "kernelspec": {
   "display_name": "Python 3",
   "language": "python",
   "name": "python3"
  },
  "language_info": {
   "codemirror_mode": {
    "name": "ipython",
    "version": 3
   },
   "file_extension": ".py",
   "mimetype": "text/x-python",
   "name": "python",
   "nbconvert_exporter": "python",
   "pygments_lexer": "ipython3",
   "version": "3.7.6"
  }
 },
 "nbformat": 4,
 "nbformat_minor": 4
}
